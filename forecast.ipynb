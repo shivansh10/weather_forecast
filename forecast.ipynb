{
 "cells": [
  {
   "cell_type": "code",
   "execution_count": 286,
   "metadata": {},
   "outputs": [],
   "source": [
    "#importing libraries\n",
    "import numpy as np\n",
    "import matplotlib.pyplot as plt\n",
    "import pandas\n",
    "import math\n",
    "from pandas import DataFrame\n",
    "from matplotlib import pyplot\n"
   ]
  },
  {
   "cell_type": "code",
   "execution_count": 113,
   "metadata": {
    "scrolled": true
   },
   "outputs": [
    {
     "data": {
      "text/html": [
       "<div>\n",
       "<style scoped>\n",
       "    .dataframe tbody tr th:only-of-type {\n",
       "        vertical-align: middle;\n",
       "    }\n",
       "\n",
       "    .dataframe tbody tr th {\n",
       "        vertical-align: top;\n",
       "    }\n",
       "\n",
       "    .dataframe thead th {\n",
       "        text-align: right;\n",
       "    }\n",
       "</style>\n",
       "<table border=\"1\" class=\"dataframe\">\n",
       "  <thead>\n",
       "    <tr style=\"text-align: right;\">\n",
       "      <th></th>\n",
       "      <th>sensor</th>\n",
       "      <th>value</th>\n",
       "    </tr>\n",
       "    <tr>\n",
       "      <th>datetime</th>\n",
       "      <th></th>\n",
       "      <th></th>\n",
       "    </tr>\n",
       "  </thead>\n",
       "  <tbody>\n",
       "    <tr>\n",
       "      <th>2019-01-01 00:26:26.749000+00:00</th>\n",
       "      <td>HUM</td>\n",
       "      <td>100.00</td>\n",
       "    </tr>\n",
       "    <tr>\n",
       "      <th>2019-01-01 00:26:26.749000+00:00</th>\n",
       "      <td>TC</td>\n",
       "      <td>5.92</td>\n",
       "    </tr>\n",
       "    <tr>\n",
       "      <th>2019-01-01 00:26:26.749000+00:00</th>\n",
       "      <td>PRES</td>\n",
       "      <td>98650.55</td>\n",
       "    </tr>\n",
       "    <tr>\n",
       "      <th>2019-01-01 01:26:26.650000+00:00</th>\n",
       "      <td>HUM</td>\n",
       "      <td>100.00</td>\n",
       "    </tr>\n",
       "    <tr>\n",
       "      <th>2019-01-01 01:26:26.650000+00:00</th>\n",
       "      <td>TC</td>\n",
       "      <td>5.55</td>\n",
       "    </tr>\n",
       "    <tr>\n",
       "      <th>...</th>\n",
       "      <td>...</td>\n",
       "      <td>...</td>\n",
       "    </tr>\n",
       "    <tr>\n",
       "      <th>2019-12-31 22:39:37.032000+00:00</th>\n",
       "      <td>HUM</td>\n",
       "      <td>100.00</td>\n",
       "    </tr>\n",
       "    <tr>\n",
       "      <th>2019-12-31 22:39:37.032000+00:00</th>\n",
       "      <td>PRES</td>\n",
       "      <td>98181.39</td>\n",
       "    </tr>\n",
       "    <tr>\n",
       "      <th>2019-12-31 23:39:37.185000+00:00</th>\n",
       "      <td>PRES</td>\n",
       "      <td>98217.69</td>\n",
       "    </tr>\n",
       "    <tr>\n",
       "      <th>2019-12-31 23:39:37.185000+00:00</th>\n",
       "      <td>HUM</td>\n",
       "      <td>100.00</td>\n",
       "    </tr>\n",
       "    <tr>\n",
       "      <th>2019-12-31 23:39:37.185000+00:00</th>\n",
       "      <td>TC</td>\n",
       "      <td>15.72</td>\n",
       "    </tr>\n",
       "  </tbody>\n",
       "</table>\n",
       "<p>24966 rows × 2 columns</p>\n",
       "</div>"
      ],
      "text/plain": [
       "                                 sensor     value\n",
       "datetime                                         \n",
       "2019-01-01 00:26:26.749000+00:00    HUM    100.00\n",
       "2019-01-01 00:26:26.749000+00:00     TC      5.92\n",
       "2019-01-01 00:26:26.749000+00:00   PRES  98650.55\n",
       "2019-01-01 01:26:26.650000+00:00    HUM    100.00\n",
       "2019-01-01 01:26:26.650000+00:00     TC      5.55\n",
       "...                                 ...       ...\n",
       "2019-12-31 22:39:37.032000+00:00    HUM    100.00\n",
       "2019-12-31 22:39:37.032000+00:00   PRES  98181.39\n",
       "2019-12-31 23:39:37.185000+00:00   PRES  98217.69\n",
       "2019-12-31 23:39:37.185000+00:00    HUM    100.00\n",
       "2019-12-31 23:39:37.185000+00:00     TC     15.72\n",
       "\n",
       "[24966 rows x 2 columns]"
      ]
     },
     "execution_count": 113,
     "metadata": {},
     "output_type": "execute_result"
    }
   ],
   "source": [
    "#importing dataset\n",
    "iotdata = pd.read_csv('data/plot2-IoT Sensor Data.csv')\n",
    "tf_final = iotdata.sort_values('datetime')        #aligning the timestamps of all data\n",
    "tf_final.set_index('datetime')                    #setting the index of date and time"
   ]
  },
  {
   "cell_type": "code",
   "execution_count": 114,
   "metadata": {},
   "outputs": [],
   "source": [
    "#selecting date time column\n",
    "datetime = tf_final['datetime']\n",
    "datetime_f = datetime.reset_index(drop=True)"
   ]
  },
  {
   "cell_type": "code",
   "execution_count": 115,
   "metadata": {},
   "outputs": [
    {
     "data": {
      "text/html": [
       "<div>\n",
       "<style scoped>\n",
       "    .dataframe tbody tr th:only-of-type {\n",
       "        vertical-align: middle;\n",
       "    }\n",
       "\n",
       "    .dataframe tbody tr th {\n",
       "        vertical-align: top;\n",
       "    }\n",
       "\n",
       "    .dataframe thead th {\n",
       "        text-align: right;\n",
       "    }\n",
       "</style>\n",
       "<table border=\"1\" class=\"dataframe\">\n",
       "  <thead>\n",
       "    <tr style=\"text-align: right;\">\n",
       "      <th></th>\n",
       "      <th>sensor</th>\n",
       "      <th>value</th>\n",
       "    </tr>\n",
       "    <tr>\n",
       "      <th>date_time</th>\n",
       "      <th></th>\n",
       "      <th></th>\n",
       "    </tr>\n",
       "  </thead>\n",
       "  <tbody>\n",
       "    <tr>\n",
       "      <th>2019-01-01 00:26:26</th>\n",
       "      <td>HUM</td>\n",
       "      <td>100.00</td>\n",
       "    </tr>\n",
       "    <tr>\n",
       "      <th>2019-01-01 00:26:26</th>\n",
       "      <td>TC</td>\n",
       "      <td>5.92</td>\n",
       "    </tr>\n",
       "    <tr>\n",
       "      <th>2019-01-01 00:26:26</th>\n",
       "      <td>PRES</td>\n",
       "      <td>98650.55</td>\n",
       "    </tr>\n",
       "    <tr>\n",
       "      <th>2019-01-01 01:26:26</th>\n",
       "      <td>HUM</td>\n",
       "      <td>100.00</td>\n",
       "    </tr>\n",
       "    <tr>\n",
       "      <th>2019-01-01 01:26:26</th>\n",
       "      <td>TC</td>\n",
       "      <td>5.55</td>\n",
       "    </tr>\n",
       "    <tr>\n",
       "      <th>...</th>\n",
       "      <td>...</td>\n",
       "      <td>...</td>\n",
       "    </tr>\n",
       "    <tr>\n",
       "      <th>2019-12-31 22:39:37</th>\n",
       "      <td>HUM</td>\n",
       "      <td>100.00</td>\n",
       "    </tr>\n",
       "    <tr>\n",
       "      <th>2019-12-31 22:39:37</th>\n",
       "      <td>PRES</td>\n",
       "      <td>98181.39</td>\n",
       "    </tr>\n",
       "    <tr>\n",
       "      <th>2019-12-31 23:39:37</th>\n",
       "      <td>PRES</td>\n",
       "      <td>98217.69</td>\n",
       "    </tr>\n",
       "    <tr>\n",
       "      <th>2019-12-31 23:39:37</th>\n",
       "      <td>HUM</td>\n",
       "      <td>100.00</td>\n",
       "    </tr>\n",
       "    <tr>\n",
       "      <th>2019-12-31 23:39:37</th>\n",
       "      <td>TC</td>\n",
       "      <td>15.72</td>\n",
       "    </tr>\n",
       "  </tbody>\n",
       "</table>\n",
       "<p>24966 rows × 2 columns</p>\n",
       "</div>"
      ],
      "text/plain": [
       "                    sensor     value\n",
       "date_time                           \n",
       "2019-01-01 00:26:26    HUM    100.00\n",
       "2019-01-01 00:26:26     TC      5.92\n",
       "2019-01-01 00:26:26   PRES  98650.55\n",
       "2019-01-01 01:26:26    HUM    100.00\n",
       "2019-01-01 01:26:26     TC      5.55\n",
       "...                    ...       ...\n",
       "2019-12-31 22:39:37    HUM    100.00\n",
       "2019-12-31 22:39:37   PRES  98181.39\n",
       "2019-12-31 23:39:37   PRES  98217.69\n",
       "2019-12-31 23:39:37    HUM    100.00\n",
       "2019-12-31 23:39:37     TC     15.72\n",
       "\n",
       "[24966 rows x 2 columns]"
      ]
     },
     "execution_count": 115,
     "metadata": {},
     "output_type": "execute_result"
    }
   ],
   "source": [
    "#removing the format which is after seconds. \n",
    "from datetime import datetime\n",
    "\n",
    "def time_conv(dataset):\n",
    "    row_len = len(datetime_f)\n",
    "    datetime = []\n",
    "    for i in range(row_len):\n",
    "        strr = datetime_f[i].split('.')[0]\n",
    "        datetime.append(strr)\n",
    "    return datetime\n",
    "\n",
    "x = time_conv(datetime_f)\n",
    "tf_final['date_time'] = x\n",
    "dataset = tf_final.drop(['datetime'], axis = 1)\n",
    "dataset.set_index('date_time')"
   ]
  },
  {
   "cell_type": "code",
   "execution_count": 117,
   "metadata": {},
   "outputs": [
    {
     "data": {
      "text/html": [
       "<div>\n",
       "<style scoped>\n",
       "    .dataframe tbody tr th:only-of-type {\n",
       "        vertical-align: middle;\n",
       "    }\n",
       "\n",
       "    .dataframe tbody tr th {\n",
       "        vertical-align: top;\n",
       "    }\n",
       "\n",
       "    .dataframe thead th {\n",
       "        text-align: right;\n",
       "    }\n",
       "</style>\n",
       "<table border=\"1\" class=\"dataframe\">\n",
       "  <thead>\n",
       "    <tr style=\"text-align: right;\">\n",
       "      <th>sensor</th>\n",
       "      <th>HUM</th>\n",
       "      <th>PRES</th>\n",
       "      <th>TC</th>\n",
       "    </tr>\n",
       "    <tr>\n",
       "      <th>date_time</th>\n",
       "      <th></th>\n",
       "      <th></th>\n",
       "      <th></th>\n",
       "    </tr>\n",
       "  </thead>\n",
       "  <tbody>\n",
       "    <tr>\n",
       "      <th>2019-01-01 00:26:26</th>\n",
       "      <td>100.00</td>\n",
       "      <td>98.65055</td>\n",
       "      <td>5.92</td>\n",
       "    </tr>\n",
       "    <tr>\n",
       "      <th>2019-01-01 01:26:26</th>\n",
       "      <td>100.00</td>\n",
       "      <td>98.73618</td>\n",
       "      <td>5.55</td>\n",
       "    </tr>\n",
       "    <tr>\n",
       "      <th>2019-01-01 02:26:27</th>\n",
       "      <td>100.00</td>\n",
       "      <td>98.82278</td>\n",
       "      <td>12.93</td>\n",
       "    </tr>\n",
       "    <tr>\n",
       "      <th>2019-01-01 03:26:26</th>\n",
       "      <td>89.86</td>\n",
       "      <td>98.87944</td>\n",
       "      <td>19.03</td>\n",
       "    </tr>\n",
       "    <tr>\n",
       "      <th>2019-01-01 04:26:27</th>\n",
       "      <td>36.46</td>\n",
       "      <td>98.86911</td>\n",
       "      <td>24.00</td>\n",
       "    </tr>\n",
       "    <tr>\n",
       "      <th>...</th>\n",
       "      <td>...</td>\n",
       "      <td>...</td>\n",
       "      <td>...</td>\n",
       "    </tr>\n",
       "    <tr>\n",
       "      <th>2019-12-31 19:39:36</th>\n",
       "      <td>100.00</td>\n",
       "      <td>98.21567</td>\n",
       "      <td>17.09</td>\n",
       "    </tr>\n",
       "    <tr>\n",
       "      <th>2019-12-31 20:39:36</th>\n",
       "      <td>100.00</td>\n",
       "      <td>98.23615</td>\n",
       "      <td>16.87</td>\n",
       "    </tr>\n",
       "    <tr>\n",
       "      <th>2019-12-31 21:39:36</th>\n",
       "      <td>100.00</td>\n",
       "      <td>98.18532</td>\n",
       "      <td>16.23</td>\n",
       "    </tr>\n",
       "    <tr>\n",
       "      <th>2019-12-31 22:39:37</th>\n",
       "      <td>100.00</td>\n",
       "      <td>98.18139</td>\n",
       "      <td>15.68</td>\n",
       "    </tr>\n",
       "    <tr>\n",
       "      <th>2019-12-31 23:39:37</th>\n",
       "      <td>100.00</td>\n",
       "      <td>98.21769</td>\n",
       "      <td>15.72</td>\n",
       "    </tr>\n",
       "  </tbody>\n",
       "</table>\n",
       "<p>8322 rows × 3 columns</p>\n",
       "</div>"
      ],
      "text/plain": [
       "sensor                  HUM      PRES     TC\n",
       "date_time                                   \n",
       "2019-01-01 00:26:26  100.00  98.65055   5.92\n",
       "2019-01-01 01:26:26  100.00  98.73618   5.55\n",
       "2019-01-01 02:26:27  100.00  98.82278  12.93\n",
       "2019-01-01 03:26:26   89.86  98.87944  19.03\n",
       "2019-01-01 04:26:27   36.46  98.86911  24.00\n",
       "...                     ...       ...    ...\n",
       "2019-12-31 19:39:36  100.00  98.21567  17.09\n",
       "2019-12-31 20:39:36  100.00  98.23615  16.87\n",
       "2019-12-31 21:39:36  100.00  98.18532  16.23\n",
       "2019-12-31 22:39:37  100.00  98.18139  15.68\n",
       "2019-12-31 23:39:37  100.00  98.21769  15.72\n",
       "\n",
       "[8322 rows x 3 columns]"
      ]
     },
     "execution_count": 117,
     "metadata": {},
     "output_type": "execute_result"
    }
   ],
   "source": [
    "#converting dataset into more customed dataframe for ease.\n",
    "data = tf_final.pivot_table('value', ['date_time'], 'sensor')\n",
    "\n",
    "#converting Pressure unit from pascal to kilo pascal.\n",
    "data['PRES'] /= 1000\n",
    "\n",
    "\n",
    "data"
   ]
  },
  {
   "cell_type": "code",
   "execution_count": 249,
   "metadata": {},
   "outputs": [
    {
     "name": "stdout",
     "output_type": "stream",
     "text": [
      "         HUM      PRES        TC\n",
      "0     1.0000  0.595639  0.070323\n",
      "1     1.0000  0.612752  0.061650\n",
      "2     1.0000  0.630058  0.234646\n",
      "3     0.8986  0.641382  0.377637\n",
      "4     0.3646  0.639317  0.494140\n",
      "...      ...       ...       ...\n",
      "8317  1.0000  0.508730  0.332161\n",
      "8318  1.0000  0.512823  0.327004\n",
      "8319  1.0000  0.502665  0.312002\n",
      "8320  1.0000  0.501880  0.299109\n",
      "8321  1.0000  0.509134  0.300047\n",
      "\n",
      "[8322 rows x 3 columns]\n"
     ]
    }
   ],
   "source": [
    "#Scaling the values of dataframe in the range of 0 and 1\n",
    "from sklearn.preprocessing import MinMaxScaler\n",
    "\n",
    "scaler = MinMaxScaler(feature_range=(0, 1))\n",
    "training_set_scaled = scaler.fit_transform(data)\n",
    "\n",
    "columns = ['HUM', 'PRES', 'TC']\n",
    "dataset = DataFrame(training_set_scaled, columns=columns)\n",
    "\n",
    "print(dataset)"
   ]
  },
  {
   "cell_type": "code",
   "execution_count": 247,
   "metadata": {},
   "outputs": [],
   "source": [
    "#X for input to LSTM model as a training data and y_temp, y_pres, y_hum given one by one to model as an input. \n",
    "X = dataset.iloc[:,:].to_numpy()\n",
    "\n",
    "y_temp = dataset['TC'].to_numpy()\n",
    "y_pres = dataset['PRES'].to_numpy()\n",
    "y_hum = dataset['HUM'].to_numpy()"
   ]
  },
  {
   "cell_type": "code",
   "execution_count": 293,
   "metadata": {},
   "outputs": [
    {
     "name": "stdout",
     "output_type": "stream",
     "text": [
      "(6427, 168, 3) (1607, 168, 3) (6427, 120) (1607, 120)\n"
     ]
    }
   ],
   "source": [
    "#For Temperature Prediction\n",
    "x_arr = []\n",
    "y_arr = []\n",
    "for i in range(X.shape[0]-(120+168)):\n",
    "    x_arr.append(X[i:i+168])\n",
    "    y_arr.append(y_temp[i+168:i+168+120])\n",
    "    \n",
    "x_arr = np.array(x_arr)\n",
    "y_arr = np.array(y_arr)\n",
    "\n",
    "train_ind = int(0.8 * x_arr.shape[0])\n",
    "\n",
    "x_train = x_arr[:train_ind]\n",
    "x_test = x_arr[train_ind:]\n",
    "y_temp_train = y_arr[:train_ind]\n",
    "y_temp_test = y_arr[train_ind:]\n",
    "\n",
    "print(x_temp_train.shape, x_temp_test.shape,y_temp_train.shape, y_temp_test.shape)\n"
   ]
  },
  {
   "cell_type": "code",
   "execution_count": 294,
   "metadata": {},
   "outputs": [
    {
     "name": "stdout",
     "output_type": "stream",
     "text": [
      "(6427, 168, 3) (1607, 168, 3) (6427, 120) (1607, 120)\n"
     ]
    }
   ],
   "source": [
    "#For Pressure Prediction\n",
    "x_arr = []\n",
    "y_arr = []\n",
    "for i in range(X.shape[0]-(120+168)):\n",
    "    x_arr.append(X[i:i+168])\n",
    "    y_arr.append(y_pres[i+168:i+168+120])\n",
    "    \n",
    "x_arr = np.array(x_arr)\n",
    "y_arr = np.array(y_arr)\n",
    "\n",
    "train_ind = int(0.8 * x_arr.shape[0])\n",
    "\n",
    "x_train = x_arr[:train_ind]\n",
    "x_test = x_arr[train_ind:]\n",
    "y_pres_train = y_arr[:train_ind]\n",
    "y_pres_test = y_arr[train_ind:]\n",
    "\n",
    "print(x_train.shape, x_test.shape,y_pres_train.shape, y_pres_test.shape)"
   ]
  },
  {
   "cell_type": "code",
   "execution_count": 295,
   "metadata": {},
   "outputs": [
    {
     "name": "stdout",
     "output_type": "stream",
     "text": [
      "(6427, 168, 3) (1607, 168, 3) (6427, 120) (1607, 120)\n"
     ]
    }
   ],
   "source": [
    "#For Humidity Prediction\n",
    "x_arr = []\n",
    "y_arr = []\n",
    "for i in range(X.shape[0]-(120+168)):\n",
    "    x_arr.append(X[i:i+168])\n",
    "    y_arr.append(y_hum[i+168:i+168+120])\n",
    "    \n",
    "x_arr = np.array(x_arr)\n",
    "y_arr = np.array(y_arr)\n",
    "\n",
    "train_ind = int(0.8 * x_arr.shape[0])\n",
    "\n",
    "x_train = x_arr[:train_ind]\n",
    "x_test = x_arr[train_ind:]\n",
    "y_hum_train = y_arr[:train_ind]\n",
    "y_hum_test = y_arr[train_ind:]\n",
    "\n",
    "print(x_train.shape, x_test.shape,y_hum_train.shape, y_hum_test.shape)"
   ]
  },
  {
   "cell_type": "code",
   "execution_count": 287,
   "metadata": {},
   "outputs": [],
   "source": [
    "#LSTM VANILLA MODEL\n",
    "from sklearn.preprocessing import MinMaxScaler\n",
    "from sklearn.metrics import mean_squared_error\n",
    "from keras.models import Sequential\n",
    "from keras.layers import Dense\n",
    "from keras.layers import LSTM\n",
    "from keras.layers import Dropout\n",
    "from keras import optimizers \n",
    "import sklearn.metrics as metrics\n",
    "\n",
    "model = Sequential()\n",
    "model.add(LSTM(50, input_shape=(168, 3), return_sequences=False))\n",
    "model.add(Dense(units=120))\n",
    "\n",
    "model.compile(optimizer='adam', loss='mse')"
   ]
  },
  {
   "cell_type": "code",
   "execution_count": 310,
   "metadata": {},
   "outputs": [
    {
     "name": "stdout",
     "output_type": "stream",
     "text": [
      "Epoch 1/10\n",
      "201/201 [==============================] - 16s 78ms/step - loss: 0.0149\n",
      "Epoch 2/10\n",
      "201/201 [==============================] - 14s 69ms/step - loss: 0.0065\n",
      "Epoch 3/10\n",
      "201/201 [==============================] - 16s 81ms/step - loss: 0.0062\n",
      "Epoch 4/10\n",
      "201/201 [==============================] - 16s 78ms/step - loss: 0.0060\n",
      "Epoch 5/10\n",
      "201/201 [==============================] - 14s 69ms/step - loss: 0.0059\n",
      "Epoch 6/10\n",
      "201/201 [==============================] - 15s 77ms/step - loss: 0.0058\n",
      "Epoch 7/10\n",
      "201/201 [==============================] - 15s 72ms/step - loss: 0.0058\n",
      "Epoch 8/10\n",
      "201/201 [==============================] - 14s 71ms/step - loss: 0.0057\n",
      "Epoch 9/10\n",
      "201/201 [==============================] - 16s 79ms/step - loss: 0.0056\n",
      "Epoch 10/10\n",
      "201/201 [==============================] - 17s 83ms/step - loss: 0.0056\n"
     ]
    }
   ],
   "source": [
    "## For Temperature\n",
    "# Model Fitting for Temperature\n",
    "model.fit(x_train, y_temp_train, epochs=10)\n",
    "\n",
    "# Model Prediction for temperature\n",
    "test_temp_predict = model.predict(x_test)\n",
    "\n",
    "# To find the error between predicted and actual values. RMSE is used as a cost function. \n",
    "scaler_temps = MinMaxScaler().fit(data['TC'].to_numpy().reshape(-1,1))\n",
    "tp1 = scaler_temps.inverse_transform(test_temp_predict.reshape(-1,1))\n",
    "yt1 = scaler_temps.inverse_transform(y_temp_test.reshape(-1,1))"
   ]
  },
  {
   "cell_type": "code",
   "execution_count": 304,
   "metadata": {},
   "outputs": [
    {
     "data": {
      "text/plain": [
       "23.32263707736011"
      ]
     },
     "execution_count": 304,
     "metadata": {},
     "output_type": "execute_result"
    }
   ],
   "source": [
    "# Error Value in Percentage of Temperature\n",
    "np.mean(np.abs((yt1-tp1)/yt1))*100\n"
   ]
  },
  {
   "cell_type": "code",
   "execution_count": 305,
   "metadata": {},
   "outputs": [
    {
     "name": "stdout",
     "output_type": "stream",
     "text": [
      "Epoch 1/10\n",
      "201/201 [==============================] - 17s 86ms/step - loss: 0.0578\n",
      "Epoch 2/10\n",
      "201/201 [==============================] - 15s 74ms/step - loss: 0.0321\n",
      "Epoch 3/10\n",
      "201/201 [==============================] - 14s 71ms/step - loss: 0.0306\n",
      "Epoch 4/10\n",
      "201/201 [==============================] - 14s 71ms/step - loss: 0.0298\n",
      "Epoch 5/10\n",
      "201/201 [==============================] - 15s 73ms/step - loss: 0.0290\n",
      "Epoch 6/10\n",
      "201/201 [==============================] - 14s 71ms/step - loss: 0.0285\n",
      "Epoch 7/10\n",
      "201/201 [==============================] - 14s 72ms/step - loss: 0.0277\n",
      "Epoch 8/10\n",
      "201/201 [==============================] - 14s 70ms/step - loss: 0.0270\n",
      "Epoch 9/10\n",
      "201/201 [==============================] - 16s 81ms/step - loss: 0.0265\n",
      "Epoch 10/10\n",
      "201/201 [==============================] - 17s 84ms/step - loss: 0.0251\n"
     ]
    }
   ],
   "source": [
    "## For Humidity\n",
    "# Model Fitting for Humidity\n",
    "model.fit(x_train, y_hum_train, epochs=10)\n",
    "\n",
    "# Model Prediction for Humidity\n",
    "test_hum_predict = model.predict(x_test)\n",
    "\n",
    "# To find the error between predicted and actual values. RMSE is used as a cost function. \n",
    "scaler_temps = MinMaxScaler().fit(data['HUM'].to_numpy().reshape(-1,1))\n",
    "tp2 = scaler_temps.inverse_transform(test_hum_predict.reshape(-1,1))\n",
    "yt2 = scaler_temps.inverse_transform(y_hum_test.reshape(-1,1))"
   ]
  },
  {
   "cell_type": "code",
   "execution_count": 306,
   "metadata": {},
   "outputs": [
    {
     "data": {
      "text/plain": [
       "28.741437452110922"
      ]
     },
     "execution_count": 306,
     "metadata": {},
     "output_type": "execute_result"
    }
   ],
   "source": [
    "# Error Value in Percentage of Humidity\n",
    "np.mean(np.abs((yt2-tp2)/yt2))*100\n"
   ]
  },
  {
   "cell_type": "code",
   "execution_count": 307,
   "metadata": {},
   "outputs": [
    {
     "name": "stdout",
     "output_type": "stream",
     "text": [
      "Epoch 1/10\n",
      "201/201 [==============================] - 19s 95ms/step - loss: 0.0128\n",
      "Epoch 2/10\n",
      "201/201 [==============================] - 16s 81ms/step - loss: 0.0030\n",
      "Epoch 3/10\n",
      "201/201 [==============================] - 22s 111ms/step - loss: 0.0029\n",
      "Epoch 4/10\n",
      "201/201 [==============================] - 17s 83ms/step - loss: 0.0028\n",
      "Epoch 5/10\n",
      "201/201 [==============================] - 15s 73ms/step - loss: 0.0028\n",
      "Epoch 6/10\n",
      "201/201 [==============================] - 16s 79ms/step - loss: 0.0027\n",
      "Epoch 7/10\n",
      "201/201 [==============================] - 16s 82ms/step - loss: 0.0027\n",
      "Epoch 8/10\n",
      "201/201 [==============================] - 21s 104ms/step - loss: 0.0027\n",
      "Epoch 9/10\n",
      "201/201 [==============================] - 15s 74ms/step - loss: 0.0026\n",
      "Epoch 10/10\n",
      "201/201 [==============================] - 18s 89ms/step - loss: 0.0026\n"
     ]
    }
   ],
   "source": [
    "## For Pressure\n",
    "# Model Fitting for Pressure\n",
    "model.fit(x_train, y_pres_train, epochs=10)\n",
    "\n",
    "# Model Prediction for Pressure\n",
    "test_pres_predict = model.predict(x_test)\n",
    "\n",
    "# To find the error between predicted and actual values. RMSE is used as a cost function. \n",
    "scaler_temps = MinMaxScaler().fit(data['PRES'].to_numpy().reshape(-1,1))\n",
    "tp3 = scaler_temps.inverse_transform(test_pres_predict.reshape(-1,1))\n",
    "yt3 = scaler_temps.inverse_transform(y_pres_test.reshape(-1,1))"
   ]
  },
  {
   "cell_type": "code",
   "execution_count": 337,
   "metadata": {},
   "outputs": [
    {
     "data": {
      "text/plain": [
       "(1607, 120)"
      ]
     },
     "execution_count": 337,
     "metadata": {},
     "output_type": "execute_result"
    }
   ],
   "source": [
    "test_pres_predict.shape"
   ]
  },
  {
   "cell_type": "code",
   "execution_count": 308,
   "metadata": {},
   "outputs": [
    {
     "data": {
      "text/plain": [
       "0.21392863140958235"
      ]
     },
     "execution_count": 308,
     "metadata": {},
     "output_type": "execute_result"
    }
   ],
   "source": [
    "# Error Value in Percentage of Humidity\n",
    "np.mean(np.abs((yt3-tp3)/yt3))*100"
   ]
  },
  {
   "cell_type": "code",
   "execution_count": 333,
   "metadata": {},
   "outputs": [
    {
     "name": "stdout",
     "output_type": "stream",
     "text": [
      "(192840,) (192840,) (192840,)\n"
     ]
    }
   ],
   "source": [
    "p_temp = tp1.flatten()\n",
    "p_hum = tp2.flatten()\n",
    "p_pres = tp3.flatten()\n",
    "\n",
    "print(p_temp.shape, p_hum.shape, p_pres.shape)"
   ]
  },
  {
   "cell_type": "code",
   "execution_count": 345,
   "metadata": {},
   "outputs": [],
   "source": [
    "# Creating the dataframe of predicted values\n",
    "\n",
    "df = pd.DataFrame() \n",
    "df['pred_tc'] = p_temp\n",
    "df['pred_hum'] = p_hum\n",
    "df['pred_pres'] = p_pres"
   ]
  },
  {
   "cell_type": "code",
   "execution_count": 346,
   "metadata": {},
   "outputs": [
    {
     "data": {
      "text/html": [
       "<div>\n",
       "<style scoped>\n",
       "    .dataframe tbody tr th:only-of-type {\n",
       "        vertical-align: middle;\n",
       "    }\n",
       "\n",
       "    .dataframe tbody tr th {\n",
       "        vertical-align: top;\n",
       "    }\n",
       "\n",
       "    .dataframe thead th {\n",
       "        text-align: right;\n",
       "    }\n",
       "</style>\n",
       "<table border=\"1\" class=\"dataframe\">\n",
       "  <thead>\n",
       "    <tr style=\"text-align: right;\">\n",
       "      <th></th>\n",
       "      <th>pred_tc</th>\n",
       "      <th>pred_hum</th>\n",
       "      <th>pred_pres</th>\n",
       "    </tr>\n",
       "  </thead>\n",
       "  <tbody>\n",
       "    <tr>\n",
       "      <th>0</th>\n",
       "      <td>26.057100</td>\n",
       "      <td>104.031944</td>\n",
       "      <td>97.855804</td>\n",
       "    </tr>\n",
       "    <tr>\n",
       "      <th>1</th>\n",
       "      <td>24.940907</td>\n",
       "      <td>104.210007</td>\n",
       "      <td>97.917290</td>\n",
       "    </tr>\n",
       "    <tr>\n",
       "      <th>2</th>\n",
       "      <td>24.575678</td>\n",
       "      <td>102.319572</td>\n",
       "      <td>97.904526</td>\n",
       "    </tr>\n",
       "    <tr>\n",
       "      <th>3</th>\n",
       "      <td>24.362282</td>\n",
       "      <td>101.616478</td>\n",
       "      <td>97.929611</td>\n",
       "    </tr>\n",
       "    <tr>\n",
       "      <th>4</th>\n",
       "      <td>24.171061</td>\n",
       "      <td>100.263893</td>\n",
       "      <td>97.920792</td>\n",
       "    </tr>\n",
       "    <tr>\n",
       "      <th>...</th>\n",
       "      <td>...</td>\n",
       "      <td>...</td>\n",
       "      <td>...</td>\n",
       "    </tr>\n",
       "    <tr>\n",
       "      <th>192835</th>\n",
       "      <td>14.179567</td>\n",
       "      <td>98.732719</td>\n",
       "      <td>98.312241</td>\n",
       "    </tr>\n",
       "    <tr>\n",
       "      <th>192836</th>\n",
       "      <td>14.393075</td>\n",
       "      <td>95.630150</td>\n",
       "      <td>98.311859</td>\n",
       "    </tr>\n",
       "    <tr>\n",
       "      <th>192837</th>\n",
       "      <td>13.854380</td>\n",
       "      <td>93.652687</td>\n",
       "      <td>98.359695</td>\n",
       "    </tr>\n",
       "    <tr>\n",
       "      <th>192838</th>\n",
       "      <td>14.516295</td>\n",
       "      <td>94.381561</td>\n",
       "      <td>98.306534</td>\n",
       "    </tr>\n",
       "    <tr>\n",
       "      <th>192839</th>\n",
       "      <td>14.419685</td>\n",
       "      <td>95.054367</td>\n",
       "      <td>98.431107</td>\n",
       "    </tr>\n",
       "  </tbody>\n",
       "</table>\n",
       "<p>192840 rows × 3 columns</p>\n",
       "</div>"
      ],
      "text/plain": [
       "          pred_tc    pred_hum  pred_pres\n",
       "0       26.057100  104.031944  97.855804\n",
       "1       24.940907  104.210007  97.917290\n",
       "2       24.575678  102.319572  97.904526\n",
       "3       24.362282  101.616478  97.929611\n",
       "4       24.171061  100.263893  97.920792\n",
       "...           ...         ...        ...\n",
       "192835  14.179567   98.732719  98.312241\n",
       "192836  14.393075   95.630150  98.311859\n",
       "192837  13.854380   93.652687  98.359695\n",
       "192838  14.516295   94.381561  98.306534\n",
       "192839  14.419685   95.054367  98.431107\n",
       "\n",
       "[192840 rows x 3 columns]"
      ]
     },
     "execution_count": 346,
     "metadata": {},
     "output_type": "execute_result"
    }
   ],
   "source": [
    "df"
   ]
  },
  {
   "cell_type": "code",
   "execution_count": null,
   "metadata": {},
   "outputs": [],
   "source": []
  }
 ],
 "metadata": {
  "kernelspec": {
   "display_name": "Python 3",
   "language": "python",
   "name": "python3"
  },
  "language_info": {
   "codemirror_mode": {
    "name": "ipython",
    "version": 3
   },
   "file_extension": ".py",
   "mimetype": "text/x-python",
   "name": "python",
   "nbconvert_exporter": "python",
   "pygments_lexer": "ipython3",
   "version": "3.8.3"
  }
 },
 "nbformat": 4,
 "nbformat_minor": 4
}
